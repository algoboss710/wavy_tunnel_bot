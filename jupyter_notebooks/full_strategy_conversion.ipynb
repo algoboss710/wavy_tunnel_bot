{
 "cells": [
  {
   "cell_type": "markdown",
   "metadata": {},
   "source": [
    "### Import required libraries:\n"
   ]
  },
  {
   "cell_type": "code",
   "execution_count": null,
   "metadata": {},
   "outputs": [],
   "source": [
    "import numpy as np\n",
    "import pandas as pd\n",
    "import talib\n",
    "import MetaTrader5 as mt5"
   ]
  },
  {
   "cell_type": "markdown",
   "metadata": {},
   "source": [
    "### Connect to the MetaTrader5 terminal:\n"
   ]
  },
  {
   "cell_type": "code",
   "execution_count": null,
   "metadata": {},
   "outputs": [],
   "source": [
    "# Connect to the MetaTrader5 terminal\n",
    "if not mt5.initialize():\n",
    "    print(\"Failed to initialize MetaTrader5\")\n",
    "    mt5.shutdown()\n",
    "    exit()"
   ]
  },
  {
   "cell_type": "markdown",
   "metadata": {},
   "source": [
    "### Retrieve historical price data:"
   ]
  },
  {
   "cell_type": "code",
   "execution_count": null,
   "metadata": {},
   "outputs": [],
   "source": [
    "# Specify the symbol and timeframe\n",
    "symbol = \"EURUSD\"\n",
    "timeframe = mt5.TIMEFRAME_H1  # 1-hour timeframe\n",
    "\n",
    "# Retrieve historical price data\n",
    "num_bars = 1000  # Number of bars to retrieve\n",
    "rates = mt5.copy_rates_from_pos(symbol, timeframe, 0, num_bars)\n",
    "\n",
    "# Convert the data to a pandas DataFrame\n",
    "df = pd.DataFrame(rates, columns=['time', 'open', 'high', 'low', 'close', 'tick_volume', 'spread', 'real_volume'])\n",
    "df['time'] = pd.to_datetime(df['time'], unit='s')"
   ]
  },
  {
   "cell_type": "markdown",
   "metadata": {},
   "source": [
    "### Implement the Wavy Tunnel and other indicators:\n"
   ]
  },
  {
   "cell_type": "code",
   "execution_count": null,
   "metadata": {},
   "outputs": [],
   "source": [
    "# Wavy Tunnel\n",
    "df['wavy_h'] = talib.EMA(df['high'], timeperiod=34)\n",
    "df['wavy_c'] = talib.EMA(df['close'], timeperiod=34)\n",
    "df['wavy_l'] = talib.EMA(df['low'], timeperiod=34)\n",
    "df['ema_12'] = talib.EMA(df['close'], timeperiod=12)\n",
    "df['tunnel1'] = talib.EMA(df['close'], timeperiod=144)\n",
    "df['tunnel2'] = talib.EMA(df['close'], timeperiod=169)"
   ]
  },
  {
   "cell_type": "markdown",
   "metadata": {},
   "source": [
    "### Implement user inputs:\n"
   ]
  },
  {
   "cell_type": "code",
   "execution_count": null,
   "metadata": {},
   "outputs": [],
   "source": [
    "# User inputs\n",
    "apply_rsi_filter = True\n",
    "apply_atr_filter = True\n",
    "apply_threshold = True\n",
    "threshold_values = {\n",
    "    'USD': 2,\n",
    "    'EUR': 2,\n",
    "    'JPY': 300,\n",
    "    'GBP': 6,\n",
    "    'CHF': 2,\n",
    "    'AUD': 2,\n",
    "    'default': 100\n",
    "}\n",
    "\n",
    "# Liquidation level threshold\n",
    "min_auto_tp_threshold_values = {\n",
    "    'USD': 5,\n",
    "    'EUR': 10,\n",
    "    'JPY': 100,\n",
    "    'GBP': 50,\n",
    "    'CHF': 5,\n",
    "    'AUD': 5,\n",
    "    'default': 100\n",
    "}\n",
    "\n",
    "# Last take profit limit\n",
    "last_tp_limit_values = {\n",
    "    'USD': 15,\n",
    "    'EUR': 10,\n",
    "    'JPY': 800,\n",
    "    'GBP': 60,\n",
    "    'CHF': 15,\n",
    "    'AUD': 15,\n",
    "    'default': 250\n",
    "}\n",
    "\n",
    "peak_type = 21\n",
    "\n",
    "enable_second_strategy = True\n",
    "min_gap_second_values = {\n",
    "    'USD': 15,\n",
    "    'EUR': 15,\n",
    "    'JPY': 650,\n",
    "    'GBP': 50,\n",
    "    'CHF': 15,\n",
    "    'AUD': 15,\n",
    "    'default': 650\n",
    "}\n",
    "\n",
    "max_allow_into_zone = 0.25\n",
    "\n",
    "is_range = False\n",
    "from_date = '2024-02-01'\n",
    "to_date = '2024-03-16'\n",
    "\n",
    "is_proximity = True\n",
    "support_resistance_proximity = 0.01\n",
    "\n",
    "rsi_period = 14\n",
    "rsi_upper = 70\n",
    "rsi_lower = 30\n",
    "\n",
    "atr_period = 14\n",
    "atr_multiplier = 2\n",
    "\n",
    "tp_lot_percent = [60, 15, 10, 10]\n",
    "tp_weights = [0.2, 0.4, 0.6, 0.8]\n",
    "\n",
    "tp_lot_percent_second = [60, 15, 10, 10]\n",
    "tp_weights_second = [0.2, 0.4, 0.6, 0.8]\n",
    "\n",
    "max_allow_into_zone_second = 0.25"
   ]
  },
  {
   "cell_type": "markdown",
   "metadata": {},
   "source": [
    "### Implement trend analysis:\n"
   ]
  },
  {
   "cell_type": "code",
   "execution_count": null,
   "metadata": {},
   "outputs": [],
   "source": [
    "# Trend Analysis\n",
    "df['long_term_ema'] = talib.EMA(df['close'], timeperiod=200)\n",
    "df['rsi'] = talib.RSI(df['close'], timeperiod=14)\n",
    "rsi_upper = 70\n",
    "rsi_lower = 30"
   ]
  },
  {
   "cell_type": "markdown",
   "metadata": {},
   "source": [
    "### Implement peak and dip detection:\n"
   ]
  },
  {
   "cell_type": "code",
   "execution_count": null,
   "metadata": {},
   "outputs": [],
   "source": [
    "# Peak and Dip Detection\n",
    "def detect_peaks_and_dips(df, peak_type):\n",
    "    peaks = []\n",
    "    dips = []\n",
    "    for i in range(len(df)):\n",
    "        if i < peak_type or i >= len(df) - peak_type:\n",
    "            continue\n",
    "        is_peak = True\n",
    "        is_dip = True\n",
    "        for j in range(peak_type):\n",
    "            if df['high'][i] <= df['high'][i-j] or df['high'][i] <= df['high'][i+j]:\n",
    "                is_peak = False\n",
    "            if df['low'][i] >= df['low'][i-j] or df['low'][i] >= df['low'][i+j]:\n",
    "                is_dip = False\n",
    "        if is_peak:\n",
    "            peaks.append(df['high'][i])\n",
    "        if is_dip:\n",
    "            dips.append(df['low'][i])\n",
    "    return peaks, dips\n",
    "\n",
    "peak_type = 21\n",
    "peaks, dips = detect_peaks_and_dips(df, peak_type)"
   ]
  },
  {
   "cell_type": "markdown",
   "metadata": {},
   "source": [
    "### Implement liquidation levels:\n"
   ]
  },
  {
   "cell_type": "code",
   "execution_count": null,
   "metadata": {},
   "outputs": [],
   "source": [
    "# Liquidation Levels\n",
    "def find_last_peak_dip(peaks, dips, current_price, min_threshold):\n",
    "    last_peak = np.nan\n",
    "    last_dip = np.nan\n",
    "    for peak in reversed(peaks):\n",
    "        if peak > current_price + min_threshold:\n",
    "            last_peak = peak\n",
    "            break\n",
    "    for dip in reversed(dips):\n",
    "        if dip < current_price - min_threshold:\n",
    "            last_dip = dip\n",
    "            break\n",
    "    return last_peak, last_dip\n",
    "\n",
    "min_threshold = 100  # Adjust this value based on the user input"
   ]
  },
  {
   "cell_type": "markdown",
   "metadata": {},
   "source": [
    "### Implement entry conditions:"
   ]
  },
  {
   "cell_type": "code",
   "execution_count": null,
   "metadata": {},
   "outputs": [],
   "source": [
    "def check_entry_conditions(row):\n",
    "    buy_condition = (\n",
    "        row['close'] > max(row['wavy_c'], row['wavy_h'], row['wavy_l']) and\n",
    "        min(row['wavy_c'], row['wavy_h'], row['wavy_l']) > max(row['tunnel1'], row['tunnel2'])\n",
    "    )\n",
    "    sell_condition = (\n",
    "        row['close'] < min(row['wavy_c'], row['wavy_h'], row['wavy_l']) and\n",
    "        max(row['wavy_c'], row['wavy_h'], row['wavy_l']) < min(row['tunnel1'], row['tunnel2'])\n",
    "    )\n",
    "\n",
    "    if apply_rsi_filter:\n",
    "        buy_condition &= row['rsi'] < rsi_upper\n",
    "        sell_condition &= row['rsi'] > rsi_lower\n",
    "\n",
    "    if apply_atr_filter:\n",
    "        atr_value = talib.ATR(df['high'], df['low'], df['close'], timeperiod=14)\n",
    "        buy_condition &= row['close'] < row['long_term_ema'] - 2 * atr_value\n",
    "        sell_condition &= row['close'] > row['long_term_ema'] + 2 * atr_value\n",
    "\n",
    "    if apply_threshold:\n",
    "        threshold = threshold_values.get(symbol[:3], threshold_values['default']) * mt5.symbol_info(symbol).trade_tick_size\n",
    "        buy_condition &= row['close'] > max(row['wavy_c'], row['wavy_h'], row['wavy_l']) + threshold\n",
    "        sell_condition &= row['close'] < min(row['wavy_c'], row['wavy_h'], row['wavy_l']) - threshold\n",
    "\n",
    "    return buy_condition, sell_condition\n",
    "\n",
    "df['buy_signal'], df['sell_signal'] = zip(*df.apply(check_entry_conditions, axis=1))"
   ]
  },
  {
   "cell_type": "markdown",
   "metadata": {},
   "source": [
    "### Implement support and resistance proximity:\n"
   ]
  },
  {
   "cell_type": "code",
   "execution_count": null,
   "metadata": {},
   "outputs": [],
   "source": [
    "# Support and Resistance Proximity\n",
    "def check_support_resistance_proximity(row):\n",
    "    support_level = talib.SMA(talib.MIN(df['low'], 18), 5)\n",
    "    resistance_level = talib.SMA(talib.MAX(df['high'], 18), 5)\n",
    "    proximity_threshold = 0.01  # Adjust this value based on user input\n",
    "\n",
    "    near_support = row['close'] <= support_level * (1 + proximity_threshold)\n",
    "    near_resistance = row['close'] >= resistance_level * (1 - proximity_threshold)\n",
    "\n",
    "    return near_support, near_resistance\n",
    "\n",
    "df['near_support'], df['near_resistance'] = zip(*df.apply(check_support_resistance_proximity, axis=1))\n",
    "\n"
   ]
  },
  {
   "cell_type": "markdown",
   "metadata": {},
   "source": [
    "### Implement position management:\n"
   ]
  },
  {
   "cell_type": "code",
   "execution_count": null,
   "metadata": {},
   "outputs": [],
   "source": [
    "# Position Management\n",
    "def calculate_position_size(row):\n",
    "    balance = mt5.account_info().balance\n",
    "    risk_percent = 0.01  # Adjust this value based on user input\n",
    "    position_size = (balance * risk_percent) / (row['close'] * mt5.symbol_info(symbol).trade_tick_size)\n",
    "    return position_size\n",
    "\n",
    "def open_position(row):\n",
    "    if row['buy_signal'] and not row['near_resistance']:\n",
    "        lot_size = calculate_position_size(row)\n",
    "        request = {\n",
    "            \"action\": mt5.TRADE_ACTION_DEAL,\n",
    "            \"symbol\": symbol,\n",
    "            \"volume\": lot_size,\n",
    "            \"type\": mt5.ORDER_TYPE_BUY,\n",
    "            \"price\": row['close'],\n",
    "            \"magic\": 12345,\n",
    "            \"comment\": \"Python Buy Order\",\n",
    "            \"type_time\": mt5.ORDER_TIME_GTC,\n",
    "            \"type_filling\": mt5.ORDER_FILLING_IOC,\n",
    "        }\n",
    "        result = mt5.order_send(request)\n",
    "        print(f\"Buy Order Sent: {result}\")\n",
    "\n",
    "    elif row['sell_signal'] and not row['near_support']:\n",
    "        lot_size = calculate_position_size(row)\n",
    "        request = {\n",
    "            \"action\": mt5.TRADE_ACTION_DEAL,\n",
    "            \"symbol\": symbol,\n",
    "            \"volume\": lot_size,\n",
    "            \"type\": mt5.ORDER_TYPE_SELL,\n",
    "            \"price\": row['close'],\n",
    "            \"magic\": 12345,\n",
    "            \"comment\": \"Python Sell Order\",\n",
    "            \"type_time\": mt5.ORDER_TIME_GTC,\n",
    "            \"type_filling\": mt5.ORDER_FILLING_IOC,\n",
    "        }\n",
    "        result = mt5.order_send(request)\n",
    "        print(f\"Sell Order Sent: {result}\")\n",
    "\n",
    "def close_positions():\n",
    "    positions = mt5.positions_get(symbol=symbol)\n",
    "    for position in positions:\n",
    "        if position.type == mt5.POSITION_TYPE_BUY:\n",
    "            close_request = {\n",
    "                \"action\": mt5.TRADE_ACTION_DEAL,\n",
    "                \"symbol\": symbol,\n",
    "                \"volume\": position.volume,\n",
    "                \"type\": mt5.ORDER_TYPE_SELL,\n",
    "                \"position\": position.ticket,\n",
    "                \"price\": mt5.symbol_info_tick(symbol).bid,\n",
    "                \"magic\": 12345,\n",
    "                \"comment\": \"Python Close Buy Order\",\n",
    "                \"type_time\": mt5.ORDER_TIME_GTC,\n",
    "                \"type_filling\": mt5.ORDER_FILLING_IOC,\n",
    "            }\n",
    "            result = mt5.order_send(close_request)\n",
    "            print(f\"Closed Buy Position: {result}\")\n",
    "\n",
    "        elif position.type == mt5.POSITION_TYPE_SELL:\n",
    "            close_request = {\n",
    "                \"action\": mt5.TRADE_ACTION_DEAL,\n",
    "                \"symbol\": symbol,\n",
    "                \"volume\": position.volume,\n",
    "                \"type\": mt5.ORDER_TYPE_BUY,\n",
    "                \"position\": position.ticket,\n",
    "                \"price\": mt5.symbol_info_tick(symbol).ask,\n",
    "                \"magic\": 12345,\n",
    "                \"comment\": \"Python Close Sell Order\",\n",
    "                \"type_time\": mt5.ORDER_TIME_GTC,\n",
    "                \"type_filling\": mt5.ORDER_FILLING_IOC,\n",
    "            }\n",
    "            result = mt5.order_send(close_request)\n",
    "            print(f\"Closed Sell Position: {result}\")"
   ]
  },
  {
   "cell_type": "markdown",
   "metadata": {},
   "source": [
    "### Implement the second strategy:\n"
   ]
  },
  {
   "cell_type": "code",
   "execution_count": null,
   "metadata": {},
   "outputs": [],
   "source": [
    "# Second Strategy\n",
    "def check_second_strategy_conditions(row):\n",
    "    fully_crossed_above = (\n",
    "        row['close'] > max(row['wavy_c'], row['wavy_h'], row['wavy_l']) and\n",
    "        row['close'] < min(row['tunnel1'], row['tunnel2'])\n",
    "    )\n",
    "    fully_crossed_below = (\n",
    "        row['close'] < min(row['wavy_c'], row['wavy_h'], row['wavy_l']) and\n",
    "        row['close'] > max(row['tunnel1'], row['tunnel2'])\n",
    "    )\n",
    "    return fully_crossed_above, fully_crossed_below\n",
    "\n",
    "df['second_buy_signal'], df['second_sell_signal'] = zip(*df.apply(check_second_strategy_conditions, axis=1))"
   ]
  },
  {
   "cell_type": "markdown",
   "metadata": {},
   "source": [
    "### Implement backtesting and visualization:\n"
   ]
  },
  {
   "cell_type": "code",
   "execution_count": null,
   "metadata": {},
   "outputs": [],
   "source": [
    "# Backtesting and Visualization\n",
    "initial_balance = 10000\n",
    "balance = initial_balance\n",
    "position = None\n",
    "trades = []\n",
    "\n",
    "for _, row in df.iterrows():\n",
    "    if position is None:\n",
    "        if row['buy_signal']:\n",
    "            position = 'long'\n",
    "            entry_price = row['close']\n",
    "            entry_time = row['time']\n",
    "            lot_size = calculate_position_size(row)\n",
    "            balance -= lot_size * entry_price\n",
    "            trades.append(('buy', entry_time, entry_price, lot_size))\n",
    "        elif row['sell_signal']:\n",
    "            position = 'short'\n",
    "            entry_price = row['close']\n",
    "            entry_time = row['time']\n",
    "            lot_size = calculate_position_size(row)\n",
    "            balance += lot_size * entry_price\n",
    "            trades.append(('sell', entry_time, entry_price, lot_size))\n",
    "    else:\n",
    "        if position == 'long' and (row['sell_signal'] or row['close'] < min(row['wavy_c'], row['wavy_h'], row['wavy_l'])):\n",
    "            exit_price = row['close']\n",
    "            exit_time = row['time']\n",
    "            balance += lot_size * exit_price\n",
    "            trades.append(('sell', exit_time, exit_price, lot_size))\n",
    "            position = None\n",
    "        elif position == 'short' and (row['buy_signal'] or row['close'] > max(row['wavy_c'], row['wavy_h'], row['wavy_l'])):\n",
    "            exit_price = row['close']\n",
    "            exit_time = row['time']\n",
    "            balance -= lot_size * exit_price\n",
    "            trades.append(('buy', exit_time, exit_price, lot_size))\n",
    "            position = None\n",
    "\n",
    "final_balance = balance\n",
    "profit = final_balance - initial_balance\n",
    "print(f\"Initial Balance: {initial_balance}\")\n",
    "print(f\"Final Balance: {final_balance}\")\n",
    "print(f\"Profit: {profit}\")\n",
    "\n",
    "# Visualization\n",
    "import matplotlib.pyplot as plt\n",
    "\n",
    "plt.figure(figsize=(12, 6))\n",
    "plt.plot(df['time'], df['close'], label='Price')\n",
    "plt.plot(df['time'], df['wavy_h'], label='Wavy High')\n",
    "plt.plot(df['time'], df['wavy_c'], label='Wavy Close')\n",
    "plt.plot(df['time'], df['wavy_l'], label='Wavy Low')\n",
    "plt.plot(df['time'], df['tunnel1'], label='Tunnel 1')\n",
    "plt.plot(df['time'], df['tunnel2'], label='Tunnel 2')\n",
    "\n",
    "buy_signals = df[df['buy_signal']]['close']\n",
    "sell_signals = df[df['sell_signal']]['close']\n",
    "plt.scatter(buy_signals.index, buy_signals, color='green', label='Buy Signal', marker='^')\n",
    "plt.scatter(sell_signals.index, sell_signals, color='red', label='Sell Signal', marker='v')\n",
    "\n",
    "plt.xlabel('Time')\n",
    "plt.ylabel('Price')\n",
    "plt.title('Trading Signals')\n",
    "plt.legend()\n",
    "plt.grid(True)\n",
    "plt.show()"
   ]
  },
  {
   "cell_type": "markdown",
   "metadata": {},
   "source": [
    "### Disconnect from the MetaTrader5 terminal:\n"
   ]
  },
  {
   "cell_type": "code",
   "execution_count": null,
   "metadata": {},
   "outputs": [],
   "source": [
    "# Disconnect from the MetaTrader5 terminal\n",
    "mt5.shutdown()"
   ]
  }
 ],
 "metadata": {
  "kernelspec": {
   "display_name": "base",
   "language": "python",
   "name": "python3"
  },
  "language_info": {
   "codemirror_mode": {
    "name": "ipython",
    "version": 3
   },
   "file_extension": ".py",
   "mimetype": "text/x-python",
   "name": "python",
   "nbconvert_exporter": "python",
   "pygments_lexer": "ipython3",
   "version": "3.9.13"
  }
 },
 "nbformat": 4,
 "nbformat_minor": 2
}
